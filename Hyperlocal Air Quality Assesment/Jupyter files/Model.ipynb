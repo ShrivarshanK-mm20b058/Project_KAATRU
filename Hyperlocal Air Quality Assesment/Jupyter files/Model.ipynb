{
 "cells": [
  {
   "cell_type": "code",
   "execution_count": 1,
   "id": "7eb6b023",
   "metadata": {},
   "outputs": [],
   "source": [
    "import random\n",
    "import numpy as np\n",
    "import pandas as pd\n"
   ]
  },
  {
   "cell_type": "code",
   "execution_count": 2,
   "id": "aedb44cf",
   "metadata": {},
   "outputs": [],
   "source": [
    "# BP Model\n",
    "\n",
    "# BP_static\n",
    "def BP(land_use,w_land,traffic):\n",
    "    land_use_data = land_use    # 22 x 6\n",
    "    weights_landuse = w_land    # 1 x 6\n",
    "    BP_row = np.dot(weights_landuse, land_use_data.T)   # 1 x 22\n",
    "    BP_static = np.array([BP_row for t in range(24)])   # 24 x 22\n",
    "\n",
    "    no_of_vehicles = [] # 24 x 22 # might depend on width of the road, points of interest\n",
    "    weights_vehicle =  0 # 1 x 1\n",
    "    BP_dynamic = weights_vehicle*np.array(no_of_vehicles)  # 24 x 22\n",
    "    \n",
    "    BP_final = np.add(BP_static+BP_dynamic)\n",
    "    return BP_final"
   ]
  }
 ],
 "metadata": {
  "kernelspec": {
   "display_name": "Python 3 (ipykernel)",
   "language": "python",
   "name": "python3"
  },
  "language_info": {
   "codemirror_mode": {
    "name": "ipython",
    "version": 3
   },
   "file_extension": ".py",
   "mimetype": "text/x-python",
   "name": "python",
   "nbconvert_exporter": "python",
   "pygments_lexer": "ipython3",
   "version": "3.9.7"
  }
 },
 "nbformat": 4,
 "nbformat_minor": 5
}
